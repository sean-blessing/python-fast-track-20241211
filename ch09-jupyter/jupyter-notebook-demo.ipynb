{
 "cells": [
  {
   "cell_type": "markdown",
   "metadata": {},
   "source": [
    "# Demo on Jupyter Notebooks!\n",
    "Sean does a basic demo, we'll use the fruit text file as an example."
   ]
  },
  {
   "cell_type": "code",
   "execution_count": 1,
   "metadata": {},
   "outputs": [
    {
     "name": "stdout",
     "output_type": "stream",
     "text": [
      "Welcome!\n"
     ]
    }
   ],
   "source": [
    "print('Welcome!')"
   ]
  },
  {
   "cell_type": "code",
   "execution_count": 4,
   "metadata": {},
   "outputs": [],
   "source": [
    "fruits = []\n",
    "with open('./files/fruit.txt') as file_in:\n",
    "    fruits = file_in.read().splitlines()"
   ]
  },
  {
   "cell_type": "code",
   "execution_count": 5,
   "metadata": {},
   "outputs": [
    {
     "name": "stdout",
     "output_type": "stream",
     "text": [
      "watermelon\n",
      "KIWI\n",
      "cherry\n",
      "Peach\n",
      "lemon\n",
      "banana\n",
      "strawberry\n",
      "apricot\n",
      "LIME\n",
      "pomegranate\n",
      "persimmon\n",
      "durian\n",
      "BLUEberry\n",
      "blackberry\n",
      "apple\n",
      "orange\n",
      "tangerine\n",
      "pear\n"
     ]
    }
   ],
   "source": [
    "for fruit in fruits:\n",
    "    print(fruit)"
   ]
  },
  {
   "cell_type": "code",
   "execution_count": 6,
   "metadata": {},
   "outputs": [
    {
     "name": "stdout",
     "output_type": "stream",
     "text": [
      "apple\n",
      "apricot\n",
      "banana\n",
      "blackberry\n",
      "BLUEberry\n",
      "cherry\n",
      "durian\n",
      "KIWI\n",
      "lemon\n",
      "LIME\n",
      "orange\n",
      "Peach\n",
      "pear\n",
      "persimmon\n",
      "pomegranate\n",
      "strawberry\n",
      "tangerine\n",
      "watermelon\n"
     ]
    }
   ],
   "source": [
    "for fruit in sorted(fruits, key=lambda e: e.lower()):\n",
    "    print(fruit)"
   ]
  }
 ],
 "metadata": {
  "kernelspec": {
   "display_name": "Python 3",
   "language": "python",
   "name": "python3"
  },
  "language_info": {
   "codemirror_mode": {
    "name": "ipython",
    "version": 3
   },
   "file_extension": ".py",
   "mimetype": "text/x-python",
   "name": "python",
   "nbconvert_exporter": "python",
   "pygments_lexer": "ipython3",
   "version": "3.12.3"
  }
 },
 "nbformat": 4,
 "nbformat_minor": 2
}
